{
 "cells": [
  {
   "cell_type": "code",
   "execution_count": 1,
   "metadata": {},
   "outputs": [],
   "source": [
    "from basic_import import *"
   ]
  },
  {
   "cell_type": "code",
   "execution_count": 7,
   "metadata": {},
   "outputs": [],
   "source": [
    "logg = 4.5\n",
    "Teff = 3800\n",
    "\n",
    "dif_pre = '/Users/SwingTang/Library/CloudStorage/GoogleDrive-tang.shih.yun@gmail.com/My Drive/WorkingCode/PHOENIX_models/PHOENIX-ACES-AGSS-COND-2011/v1.0/Z-0.0/'\n",
    "spec_file = f'lte{Teff:05.0f}-{logg:4.2f}-0.0.PHOENIX-ACES-AGSS-COND-2011-HiRes.fits'\n",
    "wave_file = '/Users/SwingTang/Library/CloudStorage/GoogleDrive-tang.shih.yun@gmail.com/My Drive/WorkingCode/PHOENIX_models/PHOENIX-ACES-AGSS-COND-2011/WAVE_PHOENIX-ACES-AGSS-COND-2011.fits'\n",
    "\n",
    "spec = fits.getdata(dif_pre+spec_file)\n",
    "wave = fits.getdata(wave_file)"
   ]
  },
  {
   "cell_type": "code",
   "execution_count": 9,
   "metadata": {},
   "outputs": [
    {
     "data": {
      "text/plain": [
       "array([  500.  ,   500.1 ,   500.2 , ..., 54999.25, 54999.5 , 54999.75])"
      ]
     },
     "execution_count": 9,
     "metadata": {},
     "output_type": "execute_result"
    }
   ],
   "source": [
    "wave"
   ]
  },
  {
   "cell_type": "code",
   "execution_count": null,
   "metadata": {},
   "outputs": [],
   "source": []
  }
 ],
 "metadata": {
  "kernelspec": {
   "display_name": "skippy",
   "language": "python",
   "name": "python3"
  },
  "language_info": {
   "codemirror_mode": {
    "name": "ipython",
    "version": 3
   },
   "file_extension": ".py",
   "mimetype": "text/x-python",
   "name": "python",
   "nbconvert_exporter": "python",
   "pygments_lexer": "ipython3",
   "version": "3.9.12"
  }
 },
 "nbformat": 4,
 "nbformat_minor": 2
}
